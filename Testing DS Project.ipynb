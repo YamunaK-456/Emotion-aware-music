{
 "cells": [
  {
   "cell_type": "code",
   "execution_count": 10,
   "id": "13b6af9b",
   "metadata": {},
   "outputs": [],
   "source": [
    "import cv2\n",
    "import pandas as pd\n",
    "import os\n",
    "import glob as gb\n",
    "import random\n",
    "import subprocess\n",
    "from tensorflow import keras"
   ]
  },
  {
   "cell_type": "code",
   "execution_count": 54,
   "id": "7cc0bc6b",
   "metadata": {},
   "outputs": [],
   "source": [
    "model_path = \"model6.h5\"\n",
    "loaded_model = keras.models.load_model(model_path)\n",
    "\n",
    "import matplotlib.pyplot as plt\n",
    "import numpy as np\n",
    "from PIL import Image"
   ]
  },
  {
   "cell_type": "code",
   "execution_count": 58,
   "id": "36c49ba6",
   "metadata": {},
   "outputs": [
    {
     "name": "stdout",
     "output_type": "stream",
     "text": [
      "Capturing image...\n",
      "picture taken.\n"
     ]
    }
   ],
   "source": [
    "camera_port=0    #camera 0 is laptop camera\n",
    "ramp_frames=30    #30 frames pause before taking a picture to adjust\n",
    "camera=cv2.VideoCapture(camera_port)  #establishesthe camera\n",
    "\n",
    "#captures a single image from the camera and return it in PIL format\n",
    "def get_image():\n",
    "    retval,im=camera.read()\n",
    "    return im\n",
    "\n",
    "for i in range(ramp_frames):\n",
    "    temp=get_image()\n",
    "print(\"Capturing image...\")\n",
    "\n",
    "#takes the picture\n",
    "camera_capture=get_image()\n",
    "file='testing_image.png'\n",
    "cv2.imwrite(file, camera_capture)\n",
    "\n",
    "#releases the camera\n",
    "del camera\n",
    "print(\"picture taken.\")"
   ]
  },
  {
   "cell_type": "code",
   "execution_count": 66,
   "id": "019767c4",
   "metadata": {},
   "outputs": [
    {
     "name": "stdout",
     "output_type": "stream",
     "text": [
      "1/1 [==============================] - 0s 71ms/step\n"
     ]
    }
   ],
   "source": [
    "image = cv2.imread(\"C:\\\\Users\\\\yammi\\\\kartheek.jpg\") \n",
    "\n",
    "image_fromarray = Image.fromarray(image, 'RGB')\n",
    "\n",
    "resize_image = image_fromarray.resize((128, 128))\n",
    "expand_input = np.expand_dims(resize_image,axis=0)\n",
    "input_data = np.array(expand_input)\n",
    "input_data = input_data/255\n",
    "\n",
    "pred = loaded_model.predict(input_data)\n",
    "result = pred.argmax()"
   ]
  },
  {
   "cell_type": "code",
   "execution_count": 67,
   "id": "6f8ed0a7",
   "metadata": {},
   "outputs": [
    {
     "name": "stdout",
     "output_type": "stream",
     "text": [
      "It seems you are 'Happy'\n"
     ]
    }
   ],
   "source": [
    "mp = 'C:/Program Files (x86)/Windows Media Player/wmplayer.exe'\n",
    "if result==0:\n",
    "    randomfile = random.choice(os.listdir(\"C:\\\\Users\\\\yammi\\\\Songs\\\\songs\\\\anger\\\\\"))\n",
    "    print(\"It seems you are 'ANGRY'\")\n",
    "    file=('C:\\\\Users\\\\yammi\\\\Songs\\\\songs\\\\anger\\\\'+randomfile)\n",
    "    subprocess.call([mp,file])\n",
    "if result==1:\n",
    "    randomfile = random.choice(os.listdir(\"C:\\\\Users\\\\yammi\\\\Songs\\\\songs\\\\disgusting\\\\\") )   \n",
    "    print(\"It seems you are 'Disgust'\")\n",
    "    file=('C:\\\\Users\\\\yammi\\\\Songs\\\\songs\\\\disgusting\\\\'+randomfile)\n",
    "    subprocess.call([mp,file])\n",
    "if result==2:\n",
    "    randomfile = random.choice(os.listdir(\"C:\\\\Users\\\\yammi\\\\Songs\\\\songs\\\\fearer\\\\\"))\n",
    "    print(\"It seems you are 'Fear'\")\n",
    "    file=('C:\\\\Users\\\\yammi\\\\Songs\\\\songs\\\\fearer\\\\'+randomfile)\n",
    "    subprocess.call([mp,file])\n",
    "if result==3:\n",
    "    randomfile = random.choice(os.listdir(\"C:\\\\Users\\\\yammi\\\\Songs\\\\songs\\\\happier\\\\\"))\n",
    "    print(\"It seems you are 'Happy'\")\n",
    "    file=('C:\\\\Users\\\\yammi\\\\Songs\\\\songs\\\\happier\\\\'+randomfile)\n",
    "    subprocess.call([mp,file])\n",
    "if result==4:\n",
    "    randomfile = random.choice(os.listdir(\"C:\\\\Users\\\\yammi\\\\Songs\\\\songs\\\\sader\\\\\"))                           \n",
    "    print(\"It seems you are 'Sad'\")\n",
    "    file=('C:\\\\Users\\\\yammi\\\\Songs\\\\songs\\\\sader\\\\'+randomfile)\n",
    "    subprocess.call([mp,file])\n",
    "if result==5:\n",
    "    randomfile = random.choice(os.listdir(\"C:\\\\Users\\\\yammi\\\\Songs\\\\songs\\\\surprising\\\\\"))\n",
    "    print(\"It seems you are in 'Surprise'\")\n",
    "    file=('C:\\\\Users\\\\yammi\\\\Songs\\\\songs\\\\surprising\\\\'+randomfile)\n",
    "    subprocess.call([mp,file])\n",
    "cv2.destroyAllWindows()"
   ]
  },
  {
   "cell_type": "code",
   "execution_count": null,
   "id": "3b077d46",
   "metadata": {},
   "outputs": [],
   "source": []
  }
 ],
 "metadata": {
  "kernelspec": {
   "display_name": "Python 3 (ipykernel)",
   "language": "python",
   "name": "python3"
  },
  "language_info": {
   "codemirror_mode": {
    "name": "ipython",
    "version": 3
   },
   "file_extension": ".py",
   "mimetype": "text/x-python",
   "name": "python",
   "nbconvert_exporter": "python",
   "pygments_lexer": "ipython3",
   "version": "3.9.7"
  }
 },
 "nbformat": 4,
 "nbformat_minor": 5
}
